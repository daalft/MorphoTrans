{
 "cells": [
  {
   "cell_type": "code",
   "execution_count": 107,
   "metadata": {
    "collapsed": false
   },
   "outputs": [
    {
     "name": "stdout",
     "output_type": "stream",
     "text": [
      "V [0 0]\n",
      "SCORE 1.0\n",
      "V [0 1]\n",
      "SCORE 11.8160109214\n",
      "V [1 0]\n",
      "SCORE 11.6648347822\n",
      "V [1 1]\n",
      "SCORE 137.831815182\n",
      "ORIG [ 149.49664996  149.6478261 ]\n",
      "Brute Z 162.312660886\n",
      "Brute Marg [ 0.92104121  0.9219726 ]\n",
      "23.4808457035\n",
      "Marg [ 0.92104121  0.9219726 ]\n",
      "Z 162.312660886\n",
      "[ 149.49664996  149.6478261 ]\n",
      "[ 2.50926057  5.24824546]\n",
      "[ 4.64871402  2.25142117]\n"
     ]
    }
   ],
   "source": [
    "import numpy as np\n",
    "from numpy import zeros, ones, eye, dot, exp\n",
    "from numpy import asarray as aa\n",
    "\n",
    "N = 2\n",
    "W1, W2 = np.random.rand(N, N), np.random.rand(N, N)\n",
    "#W1, W2 = eye(N), eye(N)\n",
    "\n",
    "o = aa([1.0, 1.0])\n",
    "vs = [ aa(x) for x in [[0, 0], [0, 1], [1, 0], [1, 1]]]\n",
    "\n",
    "# brute force\n",
    "Z = 0\n",
    "m = zeros((N))\n",
    "for v in vs:\n",
    "    score = exp(dot(dot(o, W1), v)) * exp(dot(dot(v, W2), o))\n",
    "    print \"V\", v\n",
    "    print \"SCORE\", score\n",
    "    Z += score\n",
    "    m += v * score\n",
    "    \n",
    "print \"ORIG\", m\n",
    "m /= Z\n",
    "print \"Brute Z\", Z\n",
    "print \"Brute Marg\", m\n",
    "\n",
    "vec1 = exp(dot(W2, o))\n",
    "vec2 = exp(dot(o, W1))\n",
    "\n",
    "1 * 1 + vec1[0] * 1 + vec2[0] * 1\n",
    "\n",
    "\n",
    "#vec = dot(dot(o, W1), vec / (1 + vec))\n",
    "marg = (vec1 * vec2) / (1 + vec1 * vec2)\n",
    "print \"Marg\", marg\n",
    "print \"Z\", Z\n",
    "\n",
    "print marg * Z\n",
    "print vec1\n",
    "print vec2\n",
    "\n"
   ]
  }
 ],
 "metadata": {
  "kernelspec": {
   "display_name": "Python 2",
   "language": "python",
   "name": "python2"
  },
  "language_info": {
   "codemirror_mode": {
    "name": "ipython",
    "version": 2
   },
   "file_extension": ".py",
   "mimetype": "text/x-python",
   "name": "python",
   "nbconvert_exporter": "python",
   "pygments_lexer": "ipython2",
   "version": "2.7.11"
  }
 },
 "nbformat": 4,
 "nbformat_minor": 0
}
